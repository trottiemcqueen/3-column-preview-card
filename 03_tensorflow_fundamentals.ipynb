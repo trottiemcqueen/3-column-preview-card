{
  "nbformat": 4,
  "nbformat_minor": 0,
  "metadata": {
    "colab": {
      "provenance": [],
      "authorship_tag": "ABX9TyMUaCxtVZK0AZt0xfxudBDt",
      "include_colab_link": true
    },
    "kernelspec": {
      "name": "python3",
      "display_name": "Python 3"
    },
    "language_info": {
      "name": "python"
    }
  },
  "cells": [
    {
      "cell_type": "markdown",
      "metadata": {
        "id": "view-in-github",
        "colab_type": "text"
      },
      "source": [
        "<a href=\"https://colab.research.google.com/github/trottiemcqueen/tensorflow-fundamentals/blob/main/03_tensorflow_fundamentals.ipynb\" target=\"_parent\"><img src=\"https://colab.research.google.com/assets/colab-badge.svg\" alt=\"Open In Colab\"/></a>"
      ]
    },
    {
      "cell_type": "code",
      "execution_count": null,
      "metadata": {
        "id": "paXPzIUsoVaJ"
      },
      "outputs": [],
      "source": []
    },
    {
      "cell_type": "markdown",
      "source": [
        "### Manipulating tensors (tensor operations)"
      ],
      "metadata": {
        "id": "33VLSck-pK6J"
      }
    },
    {
      "cell_type": "markdown",
      "source": [
        "**Basic Operations**"
      ],
      "metadata": {
        "id": "o24JBAk7pwD4"
      }
    },
    {
      "cell_type": "code",
      "source": [],
      "metadata": {
        "id": "MDazfMIyqJm4"
      },
      "execution_count": null,
      "outputs": []
    }
  ]
}